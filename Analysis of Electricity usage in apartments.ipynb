{
 "cells": [
  {
   "cell_type": "code",
   "execution_count": 2,
   "id": "0d8eafbc-1f41-40dc-b445-fde747010903",
   "metadata": {},
   "outputs": [
    {
     "name": "stdout",
     "output_type": "stream",
     "text": [
      "Requirement already satisfied: numpy in c:\\users\\karup\\anaconda3\\lib\\site-packages (2.1.3)\n",
      "Note: you may need to restart the kernel to use updated packages.\n"
     ]
    }
   ],
   "source": [
    "pip install numpy"
   ]
  },
  {
   "cell_type": "code",
   "execution_count": 3,
   "id": "b35e91a7-cad5-402b-b9bc-5fd3b5fab153",
   "metadata": {},
   "outputs": [],
   "source": [
    "import numpy as np"
   ]
  },
  {
   "cell_type": "code",
   "execution_count": 4,
   "id": "13954d26-961e-4504-be77-b744f0eca07c",
   "metadata": {},
   "outputs": [],
   "source": [
    "import numpy as np"
   ]
  },
  {
   "cell_type": "code",
   "execution_count": 5,
   "id": "b5e5f204-7df3-46bb-9322-a51615e1a5b4",
   "metadata": {},
   "outputs": [
    {
     "data": {
      "text/plain": [
       "array([ 1,  2,  3,  4,  5,  6,  7,  8,  9, 10, 11, 12])"
      ]
     },
     "execution_count": 5,
     "metadata": {},
     "output_type": "execute_result"
    }
   ],
   "source": [
    "arr = np.array([1,2,3,4,5,6,7,8,9,10,11,12])\n",
    "arr "
   ]
  },
  {
   "cell_type": "code",
   "execution_count": 6,
   "id": "f3d4d2a6-60b0-47b7-a617-fd3ff6c6f25e",
   "metadata": {},
   "outputs": [],
   "source": [
    "import pandas as pd"
   ]
  },
  {
   "cell_type": "code",
   "execution_count": 7,
   "id": "95adfb84-3396-4179-b78b-578b634c28d6",
   "metadata": {},
   "outputs": [],
   "source": [
    "np.random.seed(42)"
   ]
  },
  {
   "cell_type": "code",
   "execution_count": 8,
   "id": "465b36b2-3ecb-4695-afe6-e9f419845f10",
   "metadata": {},
   "outputs": [],
   "source": [
    "apartments=[f\"Apt_{i}\"for i in range(1,21)]"
   ]
  },
  {
   "cell_type": "code",
   "execution_count": 9,
   "id": "26008bf6-ca8b-4564-82fc-16e68b37f942",
   "metadata": {},
   "outputs": [],
   "source": [
    "dates =pd.date_range(start=\"2025-07-01\",periods=30,freq=\"D\")"
   ]
  },
  {
   "cell_type": "code",
   "execution_count": 10,
   "id": "c9f41e45-0c1e-40ad-9841-96d3a5868c54",
   "metadata": {},
   "outputs": [],
   "source": [
    "date=pd.DataFrame({\n",
    "    \"Date\":np.tile(dates,len(apartments)),\n",
    "    \"Apartment\":np.repeat(apartments,len(dates)),\n",
    "    \"Electricity_usage\":np.random.normal(loc=20,scale=5,size=len(dates)*len(apartments))\n",
    "})"
   ]
  },
  {
   "cell_type": "code",
   "execution_count": 11,
   "id": "d8b409e0-e35b-430f-9680-f88e3a2da60c",
   "metadata": {},
   "outputs": [],
   "source": [
    "df =pd.DataFrame(date)\n"
   ]
  },
  {
   "cell_type": "code",
   "execution_count": 12,
   "id": "8d1b245b-9499-436a-b423-2a3b15293b3a",
   "metadata": {},
   "outputs": [
    {
     "data": {
      "text/html": [
       "<div>\n",
       "<style scoped>\n",
       "    .dataframe tbody tr th:only-of-type {\n",
       "        vertical-align: middle;\n",
       "    }\n",
       "\n",
       "    .dataframe tbody tr th {\n",
       "        vertical-align: top;\n",
       "    }\n",
       "\n",
       "    .dataframe thead th {\n",
       "        text-align: right;\n",
       "    }\n",
       "</style>\n",
       "<table border=\"1\" class=\"dataframe\">\n",
       "  <thead>\n",
       "    <tr style=\"text-align: right;\">\n",
       "      <th></th>\n",
       "      <th>Date</th>\n",
       "      <th>Apartment</th>\n",
       "      <th>Electricity_usage</th>\n",
       "    </tr>\n",
       "  </thead>\n",
       "  <tbody>\n",
       "    <tr>\n",
       "      <th>0</th>\n",
       "      <td>2025-07-01</td>\n",
       "      <td>Apt_1</td>\n",
       "      <td>22.483571</td>\n",
       "    </tr>\n",
       "    <tr>\n",
       "      <th>1</th>\n",
       "      <td>2025-07-02</td>\n",
       "      <td>Apt_1</td>\n",
       "      <td>19.308678</td>\n",
       "    </tr>\n",
       "    <tr>\n",
       "      <th>2</th>\n",
       "      <td>2025-07-03</td>\n",
       "      <td>Apt_1</td>\n",
       "      <td>23.238443</td>\n",
       "    </tr>\n",
       "    <tr>\n",
       "      <th>3</th>\n",
       "      <td>2025-07-04</td>\n",
       "      <td>Apt_1</td>\n",
       "      <td>27.615149</td>\n",
       "    </tr>\n",
       "    <tr>\n",
       "      <th>4</th>\n",
       "      <td>2025-07-05</td>\n",
       "      <td>Apt_1</td>\n",
       "      <td>18.829233</td>\n",
       "    </tr>\n",
       "    <tr>\n",
       "      <th>...</th>\n",
       "      <td>...</td>\n",
       "      <td>...</td>\n",
       "      <td>...</td>\n",
       "    </tr>\n",
       "    <tr>\n",
       "      <th>595</th>\n",
       "      <td>2025-07-26</td>\n",
       "      <td>Apt_20</td>\n",
       "      <td>17.449918</td>\n",
       "    </tr>\n",
       "    <tr>\n",
       "      <th>596</th>\n",
       "      <td>2025-07-27</td>\n",
       "      <td>Apt_20</td>\n",
       "      <td>18.650625</td>\n",
       "    </tr>\n",
       "    <tr>\n",
       "      <th>597</th>\n",
       "      <td>2025-07-28</td>\n",
       "      <td>Apt_20</td>\n",
       "      <td>15.106181</td>\n",
       "    </tr>\n",
       "    <tr>\n",
       "      <th>598</th>\n",
       "      <td>2025-07-29</td>\n",
       "      <td>Apt_20</td>\n",
       "      <td>17.778534</td>\n",
       "    </tr>\n",
       "    <tr>\n",
       "      <th>599</th>\n",
       "      <td>2025-07-30</td>\n",
       "      <td>Apt_20</td>\n",
       "      <td>21.886502</td>\n",
       "    </tr>\n",
       "  </tbody>\n",
       "</table>\n",
       "<p>600 rows × 3 columns</p>\n",
       "</div>"
      ],
      "text/plain": [
       "          Date Apartment  Electricity_usage\n",
       "0   2025-07-01     Apt_1          22.483571\n",
       "1   2025-07-02     Apt_1          19.308678\n",
       "2   2025-07-03     Apt_1          23.238443\n",
       "3   2025-07-04     Apt_1          27.615149\n",
       "4   2025-07-05     Apt_1          18.829233\n",
       "..         ...       ...                ...\n",
       "595 2025-07-26    Apt_20          17.449918\n",
       "596 2025-07-27    Apt_20          18.650625\n",
       "597 2025-07-28    Apt_20          15.106181\n",
       "598 2025-07-29    Apt_20          17.778534\n",
       "599 2025-07-30    Apt_20          21.886502\n",
       "\n",
       "[600 rows x 3 columns]"
      ]
     },
     "execution_count": 12,
     "metadata": {},
     "output_type": "execute_result"
    }
   ],
   "source": [
    "df"
   ]
  },
  {
   "cell_type": "code",
   "execution_count": 13,
   "id": "bef2c9d3-f885-4815-a3c7-879817b2686b",
   "metadata": {},
   "outputs": [],
   "source": [
    "df[\"Electricity_usage\"]=df[\"Electricity_usage\"].round(2)"
   ]
  },
  {
   "cell_type": "code",
   "execution_count": 14,
   "id": "8e165ed1-bcfa-44d8-a917-158507559c36",
   "metadata": {},
   "outputs": [
    {
     "data": {
      "text/html": [
       "<div>\n",
       "<style scoped>\n",
       "    .dataframe tbody tr th:only-of-type {\n",
       "        vertical-align: middle;\n",
       "    }\n",
       "\n",
       "    .dataframe tbody tr th {\n",
       "        vertical-align: top;\n",
       "    }\n",
       "\n",
       "    .dataframe thead th {\n",
       "        text-align: right;\n",
       "    }\n",
       "</style>\n",
       "<table border=\"1\" class=\"dataframe\">\n",
       "  <thead>\n",
       "    <tr style=\"text-align: right;\">\n",
       "      <th></th>\n",
       "      <th>Date</th>\n",
       "      <th>Apartment</th>\n",
       "      <th>Electricity_usage</th>\n",
       "    </tr>\n",
       "  </thead>\n",
       "  <tbody>\n",
       "    <tr>\n",
       "      <th>0</th>\n",
       "      <td>2025-07-01</td>\n",
       "      <td>Apt_1</td>\n",
       "      <td>22.48</td>\n",
       "    </tr>\n",
       "    <tr>\n",
       "      <th>1</th>\n",
       "      <td>2025-07-02</td>\n",
       "      <td>Apt_1</td>\n",
       "      <td>19.31</td>\n",
       "    </tr>\n",
       "    <tr>\n",
       "      <th>2</th>\n",
       "      <td>2025-07-03</td>\n",
       "      <td>Apt_1</td>\n",
       "      <td>23.24</td>\n",
       "    </tr>\n",
       "    <tr>\n",
       "      <th>3</th>\n",
       "      <td>2025-07-04</td>\n",
       "      <td>Apt_1</td>\n",
       "      <td>27.62</td>\n",
       "    </tr>\n",
       "    <tr>\n",
       "      <th>4</th>\n",
       "      <td>2025-07-05</td>\n",
       "      <td>Apt_1</td>\n",
       "      <td>18.83</td>\n",
       "    </tr>\n",
       "    <tr>\n",
       "      <th>...</th>\n",
       "      <td>...</td>\n",
       "      <td>...</td>\n",
       "      <td>...</td>\n",
       "    </tr>\n",
       "    <tr>\n",
       "      <th>595</th>\n",
       "      <td>2025-07-26</td>\n",
       "      <td>Apt_20</td>\n",
       "      <td>17.45</td>\n",
       "    </tr>\n",
       "    <tr>\n",
       "      <th>596</th>\n",
       "      <td>2025-07-27</td>\n",
       "      <td>Apt_20</td>\n",
       "      <td>18.65</td>\n",
       "    </tr>\n",
       "    <tr>\n",
       "      <th>597</th>\n",
       "      <td>2025-07-28</td>\n",
       "      <td>Apt_20</td>\n",
       "      <td>15.11</td>\n",
       "    </tr>\n",
       "    <tr>\n",
       "      <th>598</th>\n",
       "      <td>2025-07-29</td>\n",
       "      <td>Apt_20</td>\n",
       "      <td>17.78</td>\n",
       "    </tr>\n",
       "    <tr>\n",
       "      <th>599</th>\n",
       "      <td>2025-07-30</td>\n",
       "      <td>Apt_20</td>\n",
       "      <td>21.89</td>\n",
       "    </tr>\n",
       "  </tbody>\n",
       "</table>\n",
       "<p>600 rows × 3 columns</p>\n",
       "</div>"
      ],
      "text/plain": [
       "          Date Apartment  Electricity_usage\n",
       "0   2025-07-01     Apt_1              22.48\n",
       "1   2025-07-02     Apt_1              19.31\n",
       "2   2025-07-03     Apt_1              23.24\n",
       "3   2025-07-04     Apt_1              27.62\n",
       "4   2025-07-05     Apt_1              18.83\n",
       "..         ...       ...                ...\n",
       "595 2025-07-26    Apt_20              17.45\n",
       "596 2025-07-27    Apt_20              18.65\n",
       "597 2025-07-28    Apt_20              15.11\n",
       "598 2025-07-29    Apt_20              17.78\n",
       "599 2025-07-30    Apt_20              21.89\n",
       "\n",
       "[600 rows x 3 columns]"
      ]
     },
     "execution_count": 14,
     "metadata": {},
     "output_type": "execute_result"
    }
   ],
   "source": [
    "df"
   ]
  },
  {
   "cell_type": "code",
   "execution_count": 15,
   "id": "5b0cbbc6-0f86-4140-a093-91dbcfa7468d",
   "metadata": {},
   "outputs": [
    {
     "name": "stdout",
     "output_type": "stream",
     "text": [
      "Date                 0\n",
      "Apartment            0\n",
      "Electricity_usage    0\n",
      "dtype: int64\n"
     ]
    }
   ],
   "source": [
    "print(df.isnull().sum())"
   ]
  },
  {
   "cell_type": "code",
   "execution_count": 16,
   "id": "e0df5ac8-46d7-4789-8f86-c68993f4a4e9",
   "metadata": {},
   "outputs": [
    {
     "name": "stdout",
     "output_type": "stream",
     "text": [
      "                      Date  Electricity_usage\n",
      "count                  600         600.000000\n",
      "mean   2025-07-15 12:00:00          19.932500\n",
      "min    2025-07-01 00:00:00           3.790000\n",
      "25%    2025-07-08 00:00:00          16.530000\n",
      "50%    2025-07-15 12:00:00          20.040000\n",
      "75%    2025-07-23 00:00:00          23.112500\n",
      "max    2025-07-30 00:00:00          39.260000\n",
      "std                    NaN           4.861071\n"
     ]
    }
   ],
   "source": [
    "print(df.describe())"
   ]
  },
  {
   "cell_type": "code",
   "execution_count": 17,
   "id": "25867352-95bf-4f39-80ce-2ce741ce95e2",
   "metadata": {},
   "outputs": [
    {
     "name": "stdout",
     "output_type": "stream",
     "text": [
      "Date                 datetime64[ns]\n",
      "Apartment                    object\n",
      "Electricity_usage           float64\n",
      "dtype: object\n"
     ]
    }
   ],
   "source": [
    "print(df.dtypes)"
   ]
  },
  {
   "cell_type": "code",
   "execution_count": 18,
   "id": "0b198ec9-8616-4146-8fe8-63f34f73f2f2",
   "metadata": {},
   "outputs": [
    {
     "name": "stdout",
     "output_type": "stream",
     "text": [
      "Apartment\n",
      "Apt_11    642.31\n",
      "Apt_6     641.82\n",
      "Apt_13    634.22\n",
      "Apt_10    616.09\n",
      "Apt_20    613.14\n",
      "Apt_7     609.87\n",
      "Apt_8     607.18\n",
      "Apt_16    606.97\n",
      "Apt_14    604.33\n",
      "Apt_3     601.93\n",
      "Apt_4     596.99\n",
      "Apt_15    591.38\n",
      "Apt_19    586.61\n",
      "Apt_5     585.76\n",
      "Apt_2     581.81\n",
      "Apt_9     578.48\n",
      "Apt_1     571.80\n",
      "Apt_17    570.33\n",
      "Apt_12    568.99\n",
      "Apt_18    549.49\n",
      "Name: Electricity_usage, dtype: float64\n"
     ]
    }
   ],
   "source": [
    "#Total usage per apartments \n",
    "usage_per_apartment=df.groupby(\"Apartment\")[\"Electricity_usage\"].sum().sort_values(ascending=False)\n",
    "print(usage_per_apartment)"
   ]
  },
  {
   "cell_type": "code",
   "execution_count": 19,
   "id": "fd2ec282-9e0b-4d73-884d-fc857f280c4d",
   "metadata": {},
   "outputs": [
    {
     "name": "stdout",
     "output_type": "stream",
     "text": [
      "Date\n",
      "2025-07-01    21.0440\n",
      "2025-07-02    20.8695\n",
      "2025-07-03    19.5685\n",
      "2025-07-04    20.9855\n",
      "2025-07-05    19.7835\n",
      "2025-07-06    19.3785\n",
      "2025-07-07    20.2185\n",
      "2025-07-08    19.2570\n",
      "2025-07-09    20.0280\n",
      "2025-07-10    19.3780\n",
      "2025-07-11    18.5835\n",
      "2025-07-12    20.7340\n",
      "2025-07-13    21.8065\n",
      "2025-07-14    19.9035\n",
      "2025-07-15    19.8960\n",
      "2025-07-16    19.8690\n",
      "2025-07-17    19.6250\n",
      "2025-07-18    19.5135\n",
      "2025-07-19    20.1775\n",
      "2025-07-20    16.9090\n",
      "2025-07-21    19.9490\n",
      "2025-07-22    20.0735\n",
      "2025-07-23    17.3065\n",
      "2025-07-24    21.3015\n",
      "2025-07-25    20.1795\n",
      "2025-07-26    19.1140\n",
      "2025-07-27    19.7270\n",
      "2025-07-28    19.3930\n",
      "2025-07-29    21.3020\n",
      "2025-07-30    22.1005\n",
      "Name: Electricity_usage, dtype: float64\n"
     ]
    }
   ],
   "source": [
    "daily_avg=df.groupby(\"Date\")[\"Electricity_usage\"].mean()\n",
    "print(daily_avg)"
   ]
  },
  {
   "cell_type": "code",
   "execution_count": 20,
   "id": "22d852b1-80be-4d0f-8244-8ed193645427",
   "metadata": {},
   "outputs": [],
   "source": [
    "import matplotlib.pyplot as plt\n",
    "import seaborn as sns"
   ]
  },
  {
   "cell_type": "code",
   "execution_count": 26,
   "id": "8b2d3d95-b3e2-43bd-8824-bf2202eef155",
   "metadata": {},
   "outputs": [
    {
     "data": {
      "image/png": "[encoded data removed]",
      "text/plain": [
       "<Figure size 1000x600 with 1 Axes>"
      ]
     },
     "metadata": {},
     "output_type": "display_data"
    }
   ],
   "source": [
    "plt.figure(figsize=(10,6))\n",
    "sns.barplot(x=usage_per_apartment.index,y=usage_per_apartment.values)\n",
    "plt.xticks(rotation=90)\n",
    "plt.title(\"total usage per Apartments\")\n",
    "plt.xlabel(\"Apartments\")\n",
    "plt.ylabel(\"Total KWH\")\n",
    "plt.tight_layout() \n",
    "plt.show()           \n",
    "           \n",
    "           "
   ]
  },
  {
   "cell_type": "code",
   "execution_count": 27,
   "id": "d918038d-c4d8-415d-be99-0e057337368b",
   "metadata": {},
   "outputs": [
    {
     "data": {
      "image/png": "[encoded data removed]",
      "text/plain": [
       "<Figure size 1000x600 with 1 Axes>"
      ]
     },
     "metadata": {},
     "output_type": "display_data"
    }
   ],
   "source": [
    "plt.figure(figsize=(10,6))\n",
    "sns.lineplot(x=daily_avg.index, y=daily_avg.values)\n",
    "plt.title(\"Daily average ecletricity usage\")\n",
    "plt.xlabel(\"Data\")\n",
    "plt.ylabel(\"Average KWH\")\n",
    "plt.tight_layout()\n",
    "plt.show()"
   ]
  },
  {
   "cell_type": "code",
   "execution_count": 31,
   "id": "a93cfeeb-3a02-4f05-b2cc-983b450e769a",
   "metadata": {},
   "outputs": [
    {
     "name": "stdout",
     "output_type": "stream",
     "text": [
      "          Date Apartment  Electricity_usage  High_usage_flag\n",
      "113 2025-07-24     Apt_4              32.32             True\n",
      "125 2025-07-06     Apt_5              30.95             True\n",
      "179 2025-07-30     Apt_6              33.60             True\n",
      "209 2025-07-30     Apt_7              39.26             True\n",
      "220 2025-07-11     Apt_8              31.57             True\n"
     ]
    }
   ],
   "source": [
    "threshold=df[\"Electricity_usage\"].mean()+2*df[\"Electricity_usage\"].std()\n",
    "df[\"High_usage_flag\"]=df[\"Electricity_usage\"]>threshold\n",
    "print(df[df[\"High_usage_flag\"]==True].head())"
   ]
  },
  {
   "cell_type": "code",
   "execution_count": null,
   "id": "088bef30-e97e-4fe1-8719-46ac9a10c5ba",
   "metadata": {},
   "outputs": [],
   "source": []
  }
 ],
 "metadata": {
  "kernelspec": {
   "display_name": "Python [conda env:base] *",
   "language": "python",
   "name": "conda-base-py"
  },
  "language_info": {
   "codemirror_mode": {
    "name": "ipython",
    "version": 3
   },
   "file_extension": ".py",
   "mimetype": "text/x-python",
   "name": "python",
   "nbconvert_exporter": "python",
   "pygments_lexer": "ipython3",
   "version": "3.13.5"
  }
 },
 "nbformat": 4,
 "nbformat_minor": 5
}
