{
 "cells": [
  {
   "cell_type": "code",
   "execution_count": 77,
   "id": "96b31d96-2e36-4d96-935b-fb3fd45fb676",
   "metadata": {},
   "outputs": [],
   "source": [
    "import requests\n",
    "from bs4 import BeautifulSoup"
   ]
  },
  {
   "cell_type": "code",
   "execution_count": 78,
   "id": "8d0fe906-a962-4b78-bc17-111e95b9e2e7",
   "metadata": {},
   "outputs": [],
   "source": [
    "\n",
    "# Target URL\n",
    "url = \"http://books.toscrape.com\""
   ]
  },
  {
   "cell_type": "code",
   "execution_count": 79,
   "id": "91fb9623-db06-4047-a54a-982deb23138f",
   "metadata": {},
   "outputs": [],
   "source": [
    "# Send a GET request\n",
    "response = requests.get(url)"
   ]
  },
  {
   "cell_type": "code",
   "execution_count": 80,
   "id": "03301e97-bc70-46db-94dc-8dd199dedc34",
   "metadata": {},
   "outputs": [],
   "source": [
    "# Parse the HTML\n",
    "soup = BeautifulSoup(response.text, 'html.parser')"
   ]
  },
  {
   "cell_type": "code",
   "execution_count": 81,
   "id": "7603f91b-0c9d-46d4-9b8a-30573026147d",
   "metadata": {},
   "outputs": [],
   "source": [
    "# Find all book containers\n",
    "books = soup.find_all('article', class_='product_pod')"
   ]
  },
  {
   "cell_type": "code",
   "execution_count": 83,
   "id": "bb18287a-1790-4d2d-b299-f4d6eace0050",
   "metadata": {},
   "outputs": [
    {
     "name": "stdout",
     "output_type": "stream",
     "text": [
      "Title: A Light in the Attic\n",
      "Price: Â£51.77\n",
      "\n",
      "Title: Tipping the Velvet\n",
      "Price: Â£53.74\n",
      "\n",
      "Title: Soumission\n",
      "Price: Â£50.10\n",
      "\n",
      "Title: Sharp Objects\n",
      "Price: Â£47.82\n",
      "\n",
      "Title: Sapiens: A Brief History of Humankind\n",
      "Price: Â£54.23\n",
      "\n",
      "Title: The Requiem Red\n",
      "Price: Â£22.65\n",
      "\n",
      "Title: The Dirty Little Secrets of Getting Your Dream Job\n",
      "Price: Â£33.34\n",
      "\n",
      "Title: The Coming Woman: A Novel Based on the Life of the Infamous Feminist, Victoria Woodhull\n",
      "Price: Â£17.93\n",
      "\n",
      "Title: The Boys in the Boat: Nine Americans and Their Epic Quest for Gold at the 1936 Berlin Olympics\n",
      "Price: Â£22.60\n",
      "\n",
      "Title: The Black Maria\n",
      "Price: Â£52.15\n",
      "\n",
      "Title: Starving Hearts (Triangular Trade Trilogy, #1)\n",
      "Price: Â£13.99\n",
      "\n",
      "Title: Shakespeare's Sonnets\n",
      "Price: Â£20.66\n",
      "\n",
      "Title: Set Me Free\n",
      "Price: Â£17.46\n",
      "\n",
      "Title: Scott Pilgrim's Precious Little Life (Scott Pilgrim #1)\n",
      "Price: Â£52.29\n",
      "\n",
      "Title: Rip it Up and Start Again\n",
      "Price: Â£35.02\n",
      "\n",
      "Title: Our Band Could Be Your Life: Scenes from the American Indie Underground, 1981-1991\n",
      "Price: Â£57.25\n",
      "\n",
      "Title: Olio\n",
      "Price: Â£23.88\n",
      "\n",
      "Title: Mesaerion: The Best Science Fiction Stories 1800-1849\n",
      "Price: Â£37.59\n",
      "\n",
      "Title: Libertarianism for Beginners\n",
      "Price: Â£51.33\n",
      "\n",
      "Title: It's Only the Himalayas\n",
      "Price: Â£45.17\n",
      "\n"
     ]
    }
   ],
   "source": [
    "for book in books:\n",
    "    title = book.h3.a['title']\n",
    "    price = book.find('p', class_='price_color').text\n",
    "    print(f\"Title: {title}\\nPrice: {price}\\n\")"
   ]
  },
  {
   "cell_type": "code",
   "execution_count": 89,
   "id": "8f498cd7-d7e9-45c2-81ba-683ec91d7282",
   "metadata": {},
   "outputs": [],
   "source": [
    "# Find all book containers\n",
    "book_data = []\n",
    "books = soup.find_all('article', class_='product_pod')\n"
   ]
  },
  {
   "cell_type": "code",
   "execution_count": 90,
   "id": "be5d9c36-d0b1-44f3-97ab-45f84c35ed15",
   "metadata": {},
   "outputs": [
    {
     "name": "stdout",
     "output_type": "stream",
     "text": [
      "Title: A Light in the Attic\n",
      "Price: Â£51.77\n",
      "\n",
      "Title: Tipping the Velvet\n",
      "Price: Â£53.74\n",
      "\n",
      "Title: Soumission\n",
      "Price: Â£50.10\n",
      "\n",
      "Title: Sharp Objects\n",
      "Price: Â£47.82\n",
      "\n",
      "Title: Sapiens: A Brief History of Humankind\n",
      "Price: Â£54.23\n",
      "\n",
      "Title: The Requiem Red\n",
      "Price: Â£22.65\n",
      "\n",
      "Title: The Dirty Little Secrets of Getting Your Dream Job\n",
      "Price: Â£33.34\n",
      "\n",
      "Title: The Coming Woman: A Novel Based on the Life of the Infamous Feminist, Victoria Woodhull\n",
      "Price: Â£17.93\n",
      "\n",
      "Title: The Boys in the Boat: Nine Americans and Their Epic Quest for Gold at the 1936 Berlin Olympics\n",
      "Price: Â£22.60\n",
      "\n",
      "Title: The Black Maria\n",
      "Price: Â£52.15\n",
      "\n",
      "Title: Starving Hearts (Triangular Trade Trilogy, #1)\n",
      "Price: Â£13.99\n",
      "\n",
      "Title: Shakespeare's Sonnets\n",
      "Price: Â£20.66\n",
      "\n",
      "Title: Set Me Free\n",
      "Price: Â£17.46\n",
      "\n",
      "Title: Scott Pilgrim's Precious Little Life (Scott Pilgrim #1)\n",
      "Price: Â£52.29\n",
      "\n",
      "Title: Rip it Up and Start Again\n",
      "Price: Â£35.02\n",
      "\n",
      "Title: Our Band Could Be Your Life: Scenes from the American Indie Underground, 1981-1991\n",
      "Price: Â£57.25\n",
      "\n",
      "Title: Olio\n",
      "Price: Â£23.88\n",
      "\n",
      "Title: Mesaerion: The Best Science Fiction Stories 1800-1849\n",
      "Price: Â£37.59\n",
      "\n",
      "Title: Libertarianism for Beginners\n",
      "Price: Â£51.33\n",
      "\n",
      "Title: It's Only the Himalayas\n",
      "Price: Â£45.17\n",
      "\n"
     ]
    }
   ],
   "source": [
    "for book in books:\n",
    "    title = book.h3.a['title']\n",
    "    price = book.find('p', class_='price_color').text\n",
    "    print(f\"Title: {title}\\nPrice: {price}\\n\")\n",
    "    book_data.append({\"Title\": title, \"Price\": price})"
   ]
  },
  {
   "cell_type": "code",
   "execution_count": 91,
   "id": "2577e68a-d4e5-43b7-9a84-2f4a4e6162f3",
   "metadata": {},
   "outputs": [
    {
     "name": "stdout",
     "output_type": "stream",
     "text": [
      "                                                Title    Price\n",
      "0                                A Light in the Attic  Â£51.77\n",
      "1                                  Tipping the Velvet  Â£53.74\n",
      "2                                          Soumission  Â£50.10\n",
      "3                                       Sharp Objects  Â£47.82\n",
      "4               Sapiens: A Brief History of Humankind  Â£54.23\n",
      "5                                     The Requiem Red  Â£22.65\n",
      "6   The Dirty Little Secrets of Getting Your Dream...  Â£33.34\n",
      "7   The Coming Woman: A Novel Based on the Life of...  Â£17.93\n",
      "8   The Boys in the Boat: Nine Americans and Their...  Â£22.60\n",
      "9                                     The Black Maria  Â£52.15\n",
      "10     Starving Hearts (Triangular Trade Trilogy, #1)  Â£13.99\n",
      "11                              Shakespeare's Sonnets  Â£20.66\n",
      "12                                        Set Me Free  Â£17.46\n",
      "13  Scott Pilgrim's Precious Little Life (Scott Pi...  Â£52.29\n",
      "14                          Rip it Up and Start Again  Â£35.02\n",
      "15  Our Band Could Be Your Life: Scenes from the A...  Â£57.25\n",
      "16                                               Olio  Â£23.88\n",
      "17  Mesaerion: The Best Science Fiction Stories 18...  Â£37.59\n",
      "18                       Libertarianism for Beginners  Â£51.33\n",
      "19                            It's Only the Himalayas  Â£45.17\n"
     ]
    }
   ],
   "source": [
    "df = pd.DataFrame(book_data)\n",
    "\n",
    "# Optional: Display the DataFrame\n",
    "print(df)"
   ]
  },
  {
   "cell_type": "code",
   "execution_count": 92,
   "id": "7b5c88cd-8f5e-4a0d-8792-017e3f4c0ea1",
   "metadata": {},
   "outputs": [
    {
     "ename": "SyntaxError",
     "evalue": "invalid syntax (616097234.py, line 1)",
     "output_type": "error",
     "traceback": [
      "\u001b[1;36m  Cell \u001b[1;32mIn[92], line 1\u001b[1;36m\u001b[0m\n\u001b[1;33m    mport os\u001b[0m\n\u001b[1;37m          ^\u001b[0m\n\u001b[1;31mSyntaxError\u001b[0m\u001b[1;31m:\u001b[0m invalid syntax\n"
     ]
    }
   ],
   "source": [
    " "
   ]
  },
  {
   "cell_type": "code",
   "execution_count": null,
   "id": "e8b4eb18-4083-43c3-8bb3-0a94c100fd85",
   "metadata": {},
   "outputs": [],
   "source": []
  }
 ],
 "metadata": {
  "kernelspec": {
   "display_name": "Python [conda env:base] *",
   "language": "python",
   "name": "conda-base-py"
  },
  "language_info": {
   "codemirror_mode": {
    "name": "ipython",
    "version": 3
   },
   "file_extension": ".py",
   "mimetype": "text/x-python",
   "name": "python",
   "nbconvert_exporter": "python",
   "pygments_lexer": "ipython3",
   "version": "3.13.5"
  }
 },
 "nbformat": 4,
 "nbformat_minor": 5
}
